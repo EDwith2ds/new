{
 "cells": [
  {
   "cell_type": "code",
   "execution_count": 2,
   "metadata": {},
   "outputs": [],
   "source": [
    "import pandas as pd\n",
    "import datetime as dt\n",
    "import seaborn as sns \n",
    "import matplotlib.pyplot as plt\n"
   ]
  },
  {
   "cell_type": "code",
   "execution_count": 74,
   "metadata": {},
   "outputs": [
    {
     "name": "stdout",
     "output_type": "stream",
     "text": [
      "<class 'pandas.core.frame.DataFrame'>\n",
      "Int64Index: 26052 entries, 0 to 26051\n",
      "Data columns (total 6 columns):\n",
      " #   Column     Non-Null Count  Dtype         \n",
      "---  ------     --------------  -----         \n",
      " 0   City       26052 non-null  object        \n",
      " 1   Date       26052 non-null  datetime64[ns]\n",
      " 2   Card Type  26052 non-null  object        \n",
      " 3   Exp Type   26052 non-null  object        \n",
      " 4   Gender     26052 non-null  object        \n",
      " 5   Amount     26052 non-null  int64         \n",
      "dtypes: datetime64[ns](1), int64(1), object(4)\n",
      "memory usage: 1.4+ MB\n"
     ]
    }
   ],
   "source": [
    "credit_card = pd.read_csv(r\"C:\\Users\\ezeab\\Downloads\\archive (2)\\Credit card transactions - India - Simple.csv\", index_col=0, parse_dates=['Date'])\n",
    "credit_card['Date'] = credit_card['Date'].astype('datetime64[ns]')\n",
    "credit_card.info()"
   ]
  },
  {
   "cell_type": "code",
   "execution_count": 67,
   "metadata": {},
   "outputs": [
    {
     "data": {
      "text/html": [
       "<div>\n",
       "<style scoped>\n",
       "    .dataframe tbody tr th:only-of-type {\n",
       "        vertical-align: middle;\n",
       "    }\n",
       "\n",
       "    .dataframe tbody tr th {\n",
       "        vertical-align: top;\n",
       "    }\n",
       "\n",
       "    .dataframe thead th {\n",
       "        text-align: right;\n",
       "    }\n",
       "</style>\n",
       "<table border=\"1\" class=\"dataframe\">\n",
       "  <thead>\n",
       "    <tr style=\"text-align: right;\">\n",
       "      <th></th>\n",
       "      <th>City</th>\n",
       "      <th>Date</th>\n",
       "      <th>Card Type</th>\n",
       "      <th>Exp Type</th>\n",
       "      <th>Gender</th>\n",
       "      <th>Amount</th>\n",
       "    </tr>\n",
       "    <tr>\n",
       "      <th>index</th>\n",
       "      <th></th>\n",
       "      <th></th>\n",
       "      <th></th>\n",
       "      <th></th>\n",
       "      <th></th>\n",
       "      <th></th>\n",
       "    </tr>\n",
       "  </thead>\n",
       "  <tbody>\n",
       "    <tr>\n",
       "      <th>0</th>\n",
       "      <td>Delhi</td>\n",
       "      <td>29-10-14</td>\n",
       "      <td>Gold</td>\n",
       "      <td>Bills</td>\n",
       "      <td>F</td>\n",
       "      <td>82475</td>\n",
       "    </tr>\n",
       "    <tr>\n",
       "      <th>1</th>\n",
       "      <td>Greater Mumbai</td>\n",
       "      <td>22-08-14</td>\n",
       "      <td>Platinum</td>\n",
       "      <td>Bills</td>\n",
       "      <td>F</td>\n",
       "      <td>32555</td>\n",
       "    </tr>\n",
       "    <tr>\n",
       "      <th>2</th>\n",
       "      <td>Bengaluru</td>\n",
       "      <td>27-08-14</td>\n",
       "      <td>Silver</td>\n",
       "      <td>Bills</td>\n",
       "      <td>F</td>\n",
       "      <td>101738</td>\n",
       "    </tr>\n",
       "    <tr>\n",
       "      <th>3</th>\n",
       "      <td>Greater Mumbai</td>\n",
       "      <td>12-04-14</td>\n",
       "      <td>Signature</td>\n",
       "      <td>Bills</td>\n",
       "      <td>F</td>\n",
       "      <td>123424</td>\n",
       "    </tr>\n",
       "    <tr>\n",
       "      <th>4</th>\n",
       "      <td>Bengaluru</td>\n",
       "      <td>05-05-15</td>\n",
       "      <td>Gold</td>\n",
       "      <td>Bills</td>\n",
       "      <td>F</td>\n",
       "      <td>171574</td>\n",
       "    </tr>\n",
       "  </tbody>\n",
       "</table>\n",
       "</div>"
      ],
      "text/plain": [
       "                 City      Date  Card Type Exp Type Gender  Amount\n",
       "index                                                             \n",
       "0               Delhi  29-10-14       Gold    Bills      F   82475\n",
       "1      Greater Mumbai  22-08-14   Platinum    Bills      F   32555\n",
       "2           Bengaluru  27-08-14     Silver    Bills      F  101738\n",
       "3      Greater Mumbai  12-04-14  Signature    Bills      F  123424\n",
       "4           Bengaluru  05-05-15       Gold    Bills      F  171574"
      ]
     },
     "execution_count": 67,
     "metadata": {},
     "output_type": "execute_result"
    }
   ],
   "source": [
    "# changing date column format\n",
    "credit_card['Date'] = pd.to_datetime(credit_card['Date'])\n",
    "credit_card['Date'] = credit_card['Date'].dt.strftime(\"%d-%m-%y\")\n",
    "# stripping 'india' from city names \n",
    "credit_card['City'] = credit_card['City'].str.replace(', India', '')\n",
    "credit_card.head()"
   ]
  },
  {
   "cell_type": "code",
   "execution_count": 62,
   "metadata": {},
   "outputs": [
    {
     "name": "stdout",
     "output_type": "stream",
     "text": [
      "<class 'pandas.core.frame.DataFrame'>\n",
      "Int64Index: 26052 entries, 0 to 26051\n",
      "Data columns (total 6 columns):\n",
      " #   Column     Non-Null Count  Dtype \n",
      "---  ------     --------------  ----- \n",
      " 0   City       26052 non-null  object\n",
      " 1   Date       26052 non-null  object\n",
      " 2   Card Type  26052 non-null  object\n",
      " 3   Exp Type   26052 non-null  object\n",
      " 4   Gender     26052 non-null  object\n",
      " 5   Amount     26052 non-null  int64 \n",
      "dtypes: int64(1), object(5)\n",
      "memory usage: 1.4+ MB\n",
      "None\n"
     ]
    }
   ],
   "source": [
    "print(credit_card.info())"
   ]
  },
  {
   "cell_type": "code",
   "execution_count": 5,
   "metadata": {},
   "outputs": [
    {
     "name": "stdout",
     "output_type": "stream",
     "text": [
      "City         0\n",
      "Date         0\n",
      "Card Type    0\n",
      "Exp Type     0\n",
      "Gender       0\n",
      "Amount       0\n",
      "dtype: int64\n"
     ]
    }
   ],
   "source": [
    "# checking for missing values\n",
    "print(credit_card.isna().sum())"
   ]
  },
  {
   "cell_type": "code",
   "execution_count": 52,
   "metadata": {},
   "outputs": [
    {
     "data": {
      "text/plain": [
       "index\n",
       "0         True\n",
       "1         True\n",
       "2         True\n",
       "3         True\n",
       "4         True\n",
       "         ...  \n",
       "26047     True\n",
       "26048    False\n",
       "26049    False\n",
       "26050    False\n",
       "26051    False\n",
       "Name: City, Length: 26052, dtype: bool"
      ]
     },
     "execution_count": 52,
     "metadata": {},
     "output_type": "execute_result"
    }
   ],
   "source": [
    "# grouping by city to find out the highest spenders\n",
    "city = credit_card.groupby('City')['Amount'].sum().sort_values(ascending=True)\n",
    "highest_spenders = ['Greater Mumbai','Bengaluru','Ahmedabad','Delhi','Kolkata']\n",
    "highest = credit_card.isin(highest_spenders)"
   ]
  },
  {
   "cell_type": "code",
   "execution_count": 15,
   "metadata": {},
   "outputs": [
    {
     "data": {
      "image/png": "[encoded data removed]",
      "text/plain": [
       "<Figure size 432x288 with 1 Axes>"
      ]
     },
     "metadata": {
      "needs_background": "light"
     },
     "output_type": "display_data"
    }
   ],
   "source": [
    "sns.countplot(x='Gender', data=credit_card)\n",
    "plt.show()"
   ]
  },
  {
   "cell_type": "code",
   "execution_count": 18,
   "metadata": {},
   "outputs": [
    {
     "data": {
      "text/plain": [
       "City       Date      Card Type  Exp Type       Gender  Amount\n",
       "Achalpur   05-04-15  Gold       Bills          F       209805    0.000038\n",
       "Jaipur     24-10-13  Gold       Fuel           M       232754    0.000038\n",
       "           25-01-15  Gold       Bills          F       296088    0.000038\n",
       "           25-01-14  Silver     Travel         M       21200     0.000038\n",
       "           24-12-14  Gold       Travel         M       282876    0.000038\n",
       "                                                                   ...   \n",
       "Delhi      02-03-14  Gold       Grocery        M       42529     0.000038\n",
       "                                Food           F       134861    0.000038\n",
       "                                Entertainment  F       200915    0.000038\n",
       "           02-02-15  Silver     Entertainment  F       90817     0.000038\n",
       "Zunheboto  29-03-14  Silver     Grocery        M       298567    0.000038\n",
       "Length: 26052, dtype: float64"
      ]
     },
     "execution_count": 18,
     "metadata": {},
     "output_type": "execute_result"
    }
   ],
   "source": [
    "credits_sample = credit_card.groupby('Gender').sample(n=21, random_state=234)\n",
    "credit_card.value_counts(normalize=True)"
   ]
  },
  {
   "cell_type": "code",
   "execution_count": 83,
   "metadata": {},
   "outputs": [
    {
     "data": {
      "text/plain": [
       "Card Type  Gender\n",
       "Gold       F         522932183\n",
       "           M         461607353\n",
       "Platinum   F         531940229\n",
       "           M         475698790\n",
       "Signature  F         548005149\n",
       "           M         465035956\n",
       "Silver     F         602433469\n",
       "           M         467180244\n",
       "Name: Amount, dtype: int64"
      ]
     },
     "execution_count": 83,
     "metadata": {},
     "output_type": "execute_result"
    }
   ],
   "source": [
    "#groupby card type and plot based on total amount spent\n",
    "cards_grouped = credit_card.groupby(['Card Type', 'Gender'])['Amount'].sum()\n",
    "cards_grouped"
   ]
  },
  {
   "cell_type": "code",
   "execution_count": 45,
   "metadata": {},
   "outputs": [
    {
     "data": {
      "image/png": "[encoded data removed]",
      "text/plain": [
       "<Figure size 432x288 with 1 Axes>"
      ]
     },
     "metadata": {
      "needs_background": "light"
     },
     "output_type": "display_data"
    }
   ],
   "source": [
    "sns.barplot(x='Gender', y='Amount', data=credit_card, hue='Card Type')\n",
    "plt.show()"
   ]
  },
  {
   "cell_type": "code",
   "execution_count": 84,
   "metadata": {},
   "outputs": [],
   "source": [
    "#sample by card type, stratified sampling\n",
    "sample = credit_card.groupby('Card Type').sample(frac=0.3, random_state=2023)"
   ]
  }
 ],
 "metadata": {
  "kernelspec": {
   "display_name": "Python 3",
   "language": "python",
   "name": "python3"
  },
  "language_info": {
   "codemirror_mode": {
    "name": "ipython",
    "version": 3
   },
   "file_extension": ".py",
   "mimetype": "text/x-python",
   "name": "python",
   "nbconvert_exporter": "python",
   "pygments_lexer": "ipython3",
   "version": "3.10.9"
  },
  "orig_nbformat": 4,
  "vscode": {
   "interpreter": {
    "hash": "f1c1792f3c335001492ac1eef381f1bd92039279184631d9943944d62d1dce64"
   }
  }
 },
 "nbformat": 4,
 "nbformat_minor": 2
}
