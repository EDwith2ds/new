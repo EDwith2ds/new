{
 "cells": [
  {
   "cell_type": "code",
   "execution_count": 19,
   "metadata": {},
   "outputs": [],
   "source": [
    "import pandas as pd\n",
    "import datetime as dt\n",
    "import seaborn as sns \n",
    "import matplotlib.pyplot as plt\n"
   ]
  },
  {
   "cell_type": "code",
   "execution_count": 20,
   "metadata": {},
   "outputs": [
    {
     "data": {
      "text/html": [
       "<div>\n",
       "<style scoped>\n",
       "    .dataframe tbody tr th:only-of-type {\n",
       "        vertical-align: middle;\n",
       "    }\n",
       "\n",
       "    .dataframe tbody tr th {\n",
       "        vertical-align: top;\n",
       "    }\n",
       "\n",
       "    .dataframe thead th {\n",
       "        text-align: right;\n",
       "    }\n",
       "</style>\n",
       "<table border=\"1\" class=\"dataframe\">\n",
       "  <thead>\n",
       "    <tr style=\"text-align: right;\">\n",
       "      <th></th>\n",
       "      <th>City</th>\n",
       "      <th>Date</th>\n",
       "      <th>Card Type</th>\n",
       "      <th>Exp Type</th>\n",
       "      <th>Gender</th>\n",
       "      <th>Amount</th>\n",
       "    </tr>\n",
       "    <tr>\n",
       "      <th>index</th>\n",
       "      <th></th>\n",
       "      <th></th>\n",
       "      <th></th>\n",
       "      <th></th>\n",
       "      <th></th>\n",
       "      <th></th>\n",
       "    </tr>\n",
       "  </thead>\n",
       "  <tbody>\n",
       "    <tr>\n",
       "      <th>0</th>\n",
       "      <td>Delhi, India</td>\n",
       "      <td>29-Oct-14</td>\n",
       "      <td>Gold</td>\n",
       "      <td>Bills</td>\n",
       "      <td>F</td>\n",
       "      <td>82475</td>\n",
       "    </tr>\n",
       "    <tr>\n",
       "      <th>1</th>\n",
       "      <td>Greater Mumbai, India</td>\n",
       "      <td>22-Aug-14</td>\n",
       "      <td>Platinum</td>\n",
       "      <td>Bills</td>\n",
       "      <td>F</td>\n",
       "      <td>32555</td>\n",
       "    </tr>\n",
       "    <tr>\n",
       "      <th>2</th>\n",
       "      <td>Bengaluru, India</td>\n",
       "      <td>27-Aug-14</td>\n",
       "      <td>Silver</td>\n",
       "      <td>Bills</td>\n",
       "      <td>F</td>\n",
       "      <td>101738</td>\n",
       "    </tr>\n",
       "    <tr>\n",
       "      <th>3</th>\n",
       "      <td>Greater Mumbai, India</td>\n",
       "      <td>12-Apr-14</td>\n",
       "      <td>Signature</td>\n",
       "      <td>Bills</td>\n",
       "      <td>F</td>\n",
       "      <td>123424</td>\n",
       "    </tr>\n",
       "    <tr>\n",
       "      <th>4</th>\n",
       "      <td>Bengaluru, India</td>\n",
       "      <td>5-May-15</td>\n",
       "      <td>Gold</td>\n",
       "      <td>Bills</td>\n",
       "      <td>F</td>\n",
       "      <td>171574</td>\n",
       "    </tr>\n",
       "    <tr>\n",
       "      <th>...</th>\n",
       "      <td>...</td>\n",
       "      <td>...</td>\n",
       "      <td>...</td>\n",
       "      <td>...</td>\n",
       "      <td>...</td>\n",
       "      <td>...</td>\n",
       "    </tr>\n",
       "    <tr>\n",
       "      <th>26047</th>\n",
       "      <td>Kolkata, India</td>\n",
       "      <td>22-Jun-14</td>\n",
       "      <td>Silver</td>\n",
       "      <td>Travel</td>\n",
       "      <td>F</td>\n",
       "      <td>128191</td>\n",
       "    </tr>\n",
       "    <tr>\n",
       "      <th>26048</th>\n",
       "      <td>Pune, India</td>\n",
       "      <td>3-Aug-14</td>\n",
       "      <td>Signature</td>\n",
       "      <td>Travel</td>\n",
       "      <td>M</td>\n",
       "      <td>246316</td>\n",
       "    </tr>\n",
       "    <tr>\n",
       "      <th>26049</th>\n",
       "      <td>Hyderabad, India</td>\n",
       "      <td>16-Jan-15</td>\n",
       "      <td>Silver</td>\n",
       "      <td>Travel</td>\n",
       "      <td>M</td>\n",
       "      <td>265019</td>\n",
       "    </tr>\n",
       "    <tr>\n",
       "      <th>26050</th>\n",
       "      <td>Kanpur, India</td>\n",
       "      <td>14-Sep-14</td>\n",
       "      <td>Silver</td>\n",
       "      <td>Travel</td>\n",
       "      <td>M</td>\n",
       "      <td>88174</td>\n",
       "    </tr>\n",
       "    <tr>\n",
       "      <th>26051</th>\n",
       "      <td>Hyderabad, India</td>\n",
       "      <td>19-Oct-13</td>\n",
       "      <td>Signature</td>\n",
       "      <td>Bills</td>\n",
       "      <td>M</td>\n",
       "      <td>184410</td>\n",
       "    </tr>\n",
       "  </tbody>\n",
       "</table>\n",
       "<p>26052 rows × 6 columns</p>\n",
       "</div>"
      ],
      "text/plain": [
       "                        City       Date  Card Type Exp Type Gender  Amount\n",
       "index                                                                     \n",
       "0               Delhi, India  29-Oct-14       Gold    Bills      F   82475\n",
       "1      Greater Mumbai, India  22-Aug-14   Platinum    Bills      F   32555\n",
       "2           Bengaluru, India  27-Aug-14     Silver    Bills      F  101738\n",
       "3      Greater Mumbai, India  12-Apr-14  Signature    Bills      F  123424\n",
       "4           Bengaluru, India   5-May-15       Gold    Bills      F  171574\n",
       "...                      ...        ...        ...      ...    ...     ...\n",
       "26047         Kolkata, India  22-Jun-14     Silver   Travel      F  128191\n",
       "26048            Pune, India   3-Aug-14  Signature   Travel      M  246316\n",
       "26049       Hyderabad, India  16-Jan-15     Silver   Travel      M  265019\n",
       "26050          Kanpur, India  14-Sep-14     Silver   Travel      M   88174\n",
       "26051       Hyderabad, India  19-Oct-13  Signature    Bills      M  184410\n",
       "\n",
       "[26052 rows x 6 columns]"
      ]
     },
     "execution_count": 20,
     "metadata": {},
     "output_type": "execute_result"
    }
   ],
   "source": [
    "credit_card = pd.read_csv(r\"C:\\Users\\ezeab\\Downloads\\archive (2)\\Credit card transactions - India - Simple.csv\", index_col=0)\n",
    "credit_card"
   ]
  },
  {
   "cell_type": "code",
   "execution_count": 28,
   "metadata": {},
   "outputs": [
    {
     "data": {
      "text/html": [
       "<div>\n",
       "<style scoped>\n",
       "    .dataframe tbody tr th:only-of-type {\n",
       "        vertical-align: middle;\n",
       "    }\n",
       "\n",
       "    .dataframe tbody tr th {\n",
       "        vertical-align: top;\n",
       "    }\n",
       "\n",
       "    .dataframe thead th {\n",
       "        text-align: right;\n",
       "    }\n",
       "</style>\n",
       "<table border=\"1\" class=\"dataframe\">\n",
       "  <thead>\n",
       "    <tr style=\"text-align: right;\">\n",
       "      <th></th>\n",
       "      <th>City</th>\n",
       "      <th>Date</th>\n",
       "      <th>Card Type</th>\n",
       "      <th>Exp Type</th>\n",
       "      <th>Gender</th>\n",
       "      <th>Amount</th>\n",
       "    </tr>\n",
       "    <tr>\n",
       "      <th>index</th>\n",
       "      <th></th>\n",
       "      <th></th>\n",
       "      <th></th>\n",
       "      <th></th>\n",
       "      <th></th>\n",
       "      <th></th>\n",
       "    </tr>\n",
       "  </thead>\n",
       "  <tbody>\n",
       "    <tr>\n",
       "      <th>0</th>\n",
       "      <td>Delhi</td>\n",
       "      <td>29-10-14</td>\n",
       "      <td>Gold</td>\n",
       "      <td>Bills</td>\n",
       "      <td>F</td>\n",
       "      <td>82475</td>\n",
       "    </tr>\n",
       "    <tr>\n",
       "      <th>1</th>\n",
       "      <td>Greater Mumbai</td>\n",
       "      <td>22-08-14</td>\n",
       "      <td>Platinum</td>\n",
       "      <td>Bills</td>\n",
       "      <td>F</td>\n",
       "      <td>32555</td>\n",
       "    </tr>\n",
       "    <tr>\n",
       "      <th>2</th>\n",
       "      <td>Bengaluru</td>\n",
       "      <td>27-08-14</td>\n",
       "      <td>Silver</td>\n",
       "      <td>Bills</td>\n",
       "      <td>F</td>\n",
       "      <td>101738</td>\n",
       "    </tr>\n",
       "    <tr>\n",
       "      <th>3</th>\n",
       "      <td>Greater Mumbai</td>\n",
       "      <td>12-04-14</td>\n",
       "      <td>Signature</td>\n",
       "      <td>Bills</td>\n",
       "      <td>F</td>\n",
       "      <td>123424</td>\n",
       "    </tr>\n",
       "    <tr>\n",
       "      <th>4</th>\n",
       "      <td>Bengaluru</td>\n",
       "      <td>05-05-15</td>\n",
       "      <td>Gold</td>\n",
       "      <td>Bills</td>\n",
       "      <td>F</td>\n",
       "      <td>171574</td>\n",
       "    </tr>\n",
       "  </tbody>\n",
       "</table>\n",
       "</div>"
      ],
      "text/plain": [
       "                 City      Date  Card Type Exp Type Gender  Amount\n",
       "index                                                             \n",
       "0               Delhi  29-10-14       Gold    Bills      F   82475\n",
       "1      Greater Mumbai  22-08-14   Platinum    Bills      F   32555\n",
       "2           Bengaluru  27-08-14     Silver    Bills      F  101738\n",
       "3      Greater Mumbai  12-04-14  Signature    Bills      F  123424\n",
       "4           Bengaluru  05-05-15       Gold    Bills      F  171574"
      ]
     },
     "execution_count": 28,
     "metadata": {},
     "output_type": "execute_result"
    }
   ],
   "source": [
    "# changing date column format\n",
    "credit_card['Date'] = pd.to_datetime(credit_card['Date'])\n",
    "credit_card['Date'] = credit_card['Date'].dt.strftime(\"%d-%m-%y\")\n",
    "# stripping 'india' from city names \n",
    "credit_card['City'] = credit_card['City'].str.replace(', India', '')\n",
    "credit_card.head()"
   ]
  },
  {
   "cell_type": "code",
   "execution_count": 26,
   "metadata": {},
   "outputs": [
    {
     "name": "stdout",
     "output_type": "stream",
     "text": [
      "City         0\n",
      "Date         0\n",
      "Card Type    0\n",
      "Exp Type     0\n",
      "Gender       0\n",
      "Amount       0\n",
      "dtype: int64\n"
     ]
    }
   ],
   "source": [
    "# checking for missing values\n",
    "print(credit_card.isna().sum())"
   ]
  },
  {
   "cell_type": "code",
   "execution_count": 31,
   "metadata": {},
   "outputs": [
    {
     "data": {
      "text/plain": [
       "City\n",
       "Fazilka               14949\n",
       "Mahbubnagar           15458\n",
       "Bahraich              24253\n",
       "Tirur                 26094\n",
       "Changanassery         30074\n",
       "                    ...    \n",
       "Kolkata           115466943\n",
       "Delhi             556929212\n",
       "Ahmedabad         567794310\n",
       "Bengaluru         572326739\n",
       "Greater Mumbai    576751476\n",
       "Name: Amount, Length: 986, dtype: int64"
      ]
     },
     "execution_count": 31,
     "metadata": {},
     "output_type": "execute_result"
    }
   ],
   "source": [
    "# grouping by city to find out the highest spenders\n",
    "city = credit_card.groupby('City')['Amount'].sum().sort_values(ascending=True)\n",
    "city"
   ]
  },
  {
   "cell_type": "code",
   "execution_count": 35,
   "metadata": {},
   "outputs": [
    {
     "data": {
      "image/png": "[encoded data removed]",
      "text/plain": [
       "<Figure size 432x288 with 1 Axes>"
      ]
     },
     "metadata": {
      "needs_background": "light"
     },
     "output_type": "display_data"
    }
   ],
   "source": [
    "sns.countplot(y='Gender', data=credit_card)\n",
    "plt.show()"
   ]
  },
  {
   "cell_type": "code",
   "execution_count": null,
   "metadata": {},
   "outputs": [],
   "source": [
    "plt.plot()"
   ]
  }
 ],
 "metadata": {
  "kernelspec": {
   "display_name": "Python 3",
   "language": "python",
   "name": "python3"
  },
  "language_info": {
   "codemirror_mode": {
    "name": "ipython",
    "version": 3
   },
   "file_extension": ".py",
   "mimetype": "text/x-python",
   "name": "python",
   "nbconvert_exporter": "python",
   "pygments_lexer": "ipython3",
   "version": "3.10.9"
  },
  "orig_nbformat": 4,
  "vscode": {
   "interpreter": {
    "hash": "f1c1792f3c335001492ac1eef381f1bd92039279184631d9943944d62d1dce64"
   }
  }
 },
 "nbformat": 4,
 "nbformat_minor": 2
}
