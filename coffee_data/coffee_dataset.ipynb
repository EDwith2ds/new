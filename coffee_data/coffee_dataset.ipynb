{
 "cells": [
  {
   "cell_type": "code",
   "execution_count": 114,
   "metadata": {},
   "outputs": [],
   "source": [
    "import numpy as np\n",
    "import pandas as pd\n",
    "import datetime as dt\n",
    "import seaborn as sns \n",
    "import matplotlib.pyplot as plt\n"
   ]
  },
  {
   "cell_type": "code",
   "execution_count": 115,
   "metadata": {},
   "outputs": [
    {
     "name": "stdout",
     "output_type": "stream",
     "text": [
      "<class 'pandas.core.frame.DataFrame'>\n",
      "Int64Index: 26052 entries, 0 to 26051\n",
      "Data columns (total 6 columns):\n",
      " #   Column     Non-Null Count  Dtype         \n",
      "---  ------     --------------  -----         \n",
      " 0   City       26052 non-null  object        \n",
      " 1   Date       26052 non-null  datetime64[ns]\n",
      " 2   Card Type  26052 non-null  object        \n",
      " 3   Exp Type   26052 non-null  object        \n",
      " 4   Gender     26052 non-null  object        \n",
      " 5   Amount     26052 non-null  int64         \n",
      "dtypes: datetime64[ns](1), int64(1), object(4)\n",
      "memory usage: 1.4+ MB\n"
     ]
    }
   ],
   "source": [
    "credit_card = pd.read_csv(r\"C:\\Users\\ezeab\\Downloads\\archive (2)\\Credit card transactions - India - Simple.csv\", index_col=0, parse_dates=['Date'])\n",
    "credit_card.info()"
   ]
  },
  {
   "attachments": {},
   "cell_type": "markdown",
   "metadata": {},
   "source": [
    "cleaning the data by changing date column to date format(dd-mm-yy) and then making the column a date time object(datetime64[ns]),then dropping the word india from all rows in the city column "
   ]
  },
  {
   "cell_type": "code",
   "execution_count": 116,
   "metadata": {},
   "outputs": [
    {
     "name": "stdout",
     "output_type": "stream",
     "text": [
      "City         0\n",
      "Date         0\n",
      "Card Type    0\n",
      "Exp Type     0\n",
      "Gender       0\n",
      "Amount       0\n",
      "dtype: int64\n"
     ]
    }
   ],
   "source": [
    "# changing date column format. this was already done by parsing date when importing the csv\n",
    "credit_card['Date'] = pd.to_datetime(credit_card['Date'])\n",
    "credit_card['Date'] = credit_card['Date'].dt.strftime(\"%d-%m-%y\")\n",
    "# converting date column to datetime64 object\n",
    "credit_card['Date'] = credit_card['Date'].astype('datetime64[ns]')\n",
    "# stripping 'india' from city names \n",
    "credit_card['City'] = credit_card['City'].str.replace(', India', '')\n",
    "# checking for missing values\n",
    "print(credit_card.isna().sum())"
   ]
  },
  {
   "cell_type": "code",
   "execution_count": 117,
   "metadata": {},
   "outputs": [
    {
     "name": "stdout",
     "output_type": "stream",
     "text": [
      "<class 'pandas.core.frame.DataFrame'>\n",
      "Int64Index: 26052 entries, 0 to 26051\n",
      "Data columns (total 6 columns):\n",
      " #   Column     Non-Null Count  Dtype         \n",
      "---  ------     --------------  -----         \n",
      " 0   City       26052 non-null  object        \n",
      " 1   Date       26052 non-null  datetime64[ns]\n",
      " 2   Card Type  26052 non-null  object        \n",
      " 3   Exp Type   26052 non-null  object        \n",
      " 4   Gender     26052 non-null  object        \n",
      " 5   Amount     26052 non-null  int64         \n",
      "dtypes: datetime64[ns](1), int64(1), object(4)\n",
      "memory usage: 1.4+ MB\n",
      "None\n"
     ]
    }
   ],
   "source": [
    "print(credit_card.info())"
   ]
  },
  {
   "cell_type": "code",
   "execution_count": 119,
   "metadata": {},
   "outputs": [
    {
     "data": {
      "text/plain": [
       "City       Date        Card Type  Exp Type       Gender  Amount\n",
       "Achalpur   2013-06-12  Silver     Grocery        F       201032    0.000038\n",
       "Jaipur     2015-02-17  Signature  Entertainment  F       273788    0.000038\n",
       "           2015-02-23  Signature  Bills          F       50887     0.000038\n",
       "           2015-02-22  Platinum   Fuel           F       35071     0.000038\n",
       "           2015-02-21  Gold       Fuel           M       45909     0.000038\n",
       "                                                                     ...   \n",
       "Delhi      2013-09-11  Gold       Grocery        M       153338    0.000038\n",
       "                                  Fuel           F       48795     0.000038\n",
       "           2013-09-10  Silver     Grocery        F       162859    0.000038\n",
       "                                  Fuel           F       39439     0.000038\n",
       "Zunheboto  2014-03-29  Silver     Grocery        M       298567    0.000038\n",
       "Length: 26052, dtype: float64"
      ]
     },
     "execution_count": 119,
     "metadata": {},
     "output_type": "execute_result"
    }
   ],
   "source": [
    "credits_sample = credit_card.groupby('Gender').sample(n=21, random_state=234)\n",
    "credit_card.value_counts(normalize=True)"
   ]
  },
  {
   "cell_type": "code",
   "execution_count": 139,
   "metadata": {},
   "outputs": [
    {
     "data": {
      "text/html": [
       "<div>\n",
       "<style scoped>\n",
       "    .dataframe tbody tr th:only-of-type {\n",
       "        vertical-align: middle;\n",
       "    }\n",
       "\n",
       "    .dataframe tbody tr th {\n",
       "        vertical-align: top;\n",
       "    }\n",
       "\n",
       "    .dataframe thead th {\n",
       "        text-align: right;\n",
       "    }\n",
       "</style>\n",
       "<table border=\"1\" class=\"dataframe\">\n",
       "  <thead>\n",
       "    <tr style=\"text-align: right;\">\n",
       "      <th></th>\n",
       "      <th>mean</th>\n",
       "      <th>sum</th>\n",
       "    </tr>\n",
       "    <tr>\n",
       "      <th>Date</th>\n",
       "      <th></th>\n",
       "      <th></th>\n",
       "    </tr>\n",
       "  </thead>\n",
       "  <tbody>\n",
       "    <tr>\n",
       "      <th>2013-01-11</th>\n",
       "      <td>166866.729730</td>\n",
       "      <td>6174069</td>\n",
       "    </tr>\n",
       "    <tr>\n",
       "      <th>2013-01-12</th>\n",
       "      <td>149688.950000</td>\n",
       "      <td>5987558</td>\n",
       "    </tr>\n",
       "    <tr>\n",
       "      <th>2013-02-11</th>\n",
       "      <td>150273.487179</td>\n",
       "      <td>5860666</td>\n",
       "    </tr>\n",
       "    <tr>\n",
       "      <th>2013-02-12</th>\n",
       "      <td>172830.019608</td>\n",
       "      <td>8814331</td>\n",
       "    </tr>\n",
       "    <tr>\n",
       "      <th>2013-03-11</th>\n",
       "      <td>162591.447368</td>\n",
       "      <td>6178475</td>\n",
       "    </tr>\n",
       "    <tr>\n",
       "      <th>...</th>\n",
       "      <td>...</td>\n",
       "      <td>...</td>\n",
       "    </tr>\n",
       "    <tr>\n",
       "      <th>2015-12-01</th>\n",
       "      <td>174969.483333</td>\n",
       "      <td>10498169</td>\n",
       "    </tr>\n",
       "    <tr>\n",
       "      <th>2015-12-02</th>\n",
       "      <td>163665.046512</td>\n",
       "      <td>7037597</td>\n",
       "    </tr>\n",
       "    <tr>\n",
       "      <th>2015-12-03</th>\n",
       "      <td>164994.981132</td>\n",
       "      <td>8744734</td>\n",
       "    </tr>\n",
       "    <tr>\n",
       "      <th>2015-12-04</th>\n",
       "      <td>152527.773585</td>\n",
       "      <td>8083972</td>\n",
       "    </tr>\n",
       "    <tr>\n",
       "      <th>2015-12-05</th>\n",
       "      <td>169439.422222</td>\n",
       "      <td>7624774</td>\n",
       "    </tr>\n",
       "  </tbody>\n",
       "</table>\n",
       "<p>600 rows × 2 columns</p>\n",
       "</div>"
      ],
      "text/plain": [
       "                     mean       sum\n",
       "Date                               \n",
       "2013-01-11  166866.729730   6174069\n",
       "2013-01-12  149688.950000   5987558\n",
       "2013-02-11  150273.487179   5860666\n",
       "2013-02-12  172830.019608   8814331\n",
       "2013-03-11  162591.447368   6178475\n",
       "...                   ...       ...\n",
       "2015-12-01  174969.483333  10498169\n",
       "2015-12-02  163665.046512   7037597\n",
       "2015-12-03  164994.981132   8744734\n",
       "2015-12-04  152527.773585   8083972\n",
       "2015-12-05  169439.422222   7624774\n",
       "\n",
       "[600 rows x 2 columns]"
      ]
     },
     "execution_count": 139,
     "metadata": {},
     "output_type": "execute_result"
    }
   ],
   "source": [
    "#grouping and comparing the total speendings across the years\n",
    "#still needs futher fixing, tryin to do it as year something not all dates\n",
    "yealy_spends = credit_card.groupby('Date')['Amount'].agg([np.mean, sum])\n",
    "yealy_spends.sort_index()"
   ]
  },
  {
   "cell_type": "code",
   "execution_count": null,
   "metadata": {},
   "outputs": [
    {
     "data": {
      "text/plain": [
       "Card Type  Gender\n",
       "Gold       F         522932183\n",
       "           M         461607353\n",
       "Platinum   F         531940229\n",
       "           M         475698790\n",
       "Signature  F         548005149\n",
       "           M         465035956\n",
       "Silver     F         602433469\n",
       "           M         467180244\n",
       "Name: Amount, dtype: int64"
      ]
     },
     "execution_count": 108,
     "metadata": {},
     "output_type": "execute_result"
    }
   ],
   "source": [
    "#groupby card type and plot based on total amount spent\n",
    "cards_grouped = credit_card.groupby(['Card Type', 'Gender'])['Amount'].sum()\n",
    "cards_grouped"
   ]
  },
  {
   "cell_type": "code",
   "execution_count": 128,
   "metadata": {},
   "outputs": [
    {
     "data": {
      "image/png": "[encoded data removed]",
      "text/plain": [
       "<Figure size 432x288 with 1 Axes>"
      ]
     },
     "metadata": {
      "needs_background": "light"
     },
     "output_type": "display_data"
    }
   ],
   "source": [
    "sns.countplot(x='Gender', data=credit_card)\n",
    "plt.show()"
   ]
  },
  {
   "cell_type": "code",
   "execution_count": null,
   "metadata": {},
   "outputs": [
    {
     "data": {
      "image/png": "[encoded data removed]",
      "text/plain": [
       "<Figure size 432x288 with 1 Axes>"
      ]
     },
     "metadata": {
      "needs_background": "light"
     },
     "output_type": "display_data"
    }
   ],
   "source": [
    "sns.barplot(x='Gender', y='Amount', data=credit_card, hue='Card Type')\n",
    "plt.title('total spendng of each gender based on card type')\n",
    "plt.show()"
   ]
  },
  {
   "cell_type": "code",
   "execution_count": null,
   "metadata": {},
   "outputs": [
    {
     "data": {
      "image/png": "[encoded data removed]",
      "text/plain": [
       "<Figure size 360x360 with 1 Axes>"
      ]
     },
     "metadata": {
      "needs_background": "light"
     },
     "output_type": "display_data"
    }
   ],
   "source": [
    "sns.relplot(x='Date', y='Amount', data=credit_card, kind='line', errorbar=None)\n",
    "plt.xticks(rotation=90)\n",
    "plt.show()\n"
   ]
  },
  {
   "cell_type": "code",
   "execution_count": 127,
   "metadata": {},
   "outputs": [
    {
     "data": {
      "image/png": "[encoded data removed]",
      "text/plain": [
       "<Figure size 432x288 with 1 Axes>"
      ]
     },
     "metadata": {
      "needs_background": "light"
     },
     "output_type": "display_data"
    }
   ],
   "source": [
    "sns.barplot(y='Exp Type', x='Amount', data=credit_card)\n",
    "plt.title(\"bar plot of different expenditure types\")\n",
    "plt.ylabel(\"Expenditure type\")\n",
    "plt.show()"
   ]
  }
 ],
 "metadata": {
  "kernelspec": {
   "display_name": "Python 3",
   "language": "python",
   "name": "python3"
  },
  "language_info": {
   "codemirror_mode": {
    "name": "ipython",
    "version": 3
   },
   "file_extension": ".py",
   "mimetype": "text/x-python",
   "name": "python",
   "nbconvert_exporter": "python",
   "pygments_lexer": "ipython3",
   "version": "3.10.9"
  },
  "orig_nbformat": 4,
  "vscode": {
   "interpreter": {
    "hash": "f1c1792f3c335001492ac1eef381f1bd92039279184631d9943944d62d1dce64"
   }
  }
 },
 "nbformat": 4,
 "nbformat_minor": 2
}
